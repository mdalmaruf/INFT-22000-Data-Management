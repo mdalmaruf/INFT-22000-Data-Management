{
  "nbformat": 4,
  "nbformat_minor": 0,
  "metadata": {
    "colab": {
      "provenance": []
    },
    "kernelspec": {
      "name": "python3",
      "display_name": "Python 3"
    },
    "language_info": {
      "name": "python"
    }
  },
  "cells": [
    {
      "cell_type": "markdown",
      "source": [
        "**Data Governance Practice Activity:**\n",
        "This activity helps to understand data governance principles using a detailed dataset. You will work through data quality checks, privacy protection, metadata management, and visualization. Let's get started!"
      ],
      "metadata": {
        "id": "f_ft2ZsIQNVy"
      }
    },
    {
      "cell_type": "markdown",
      "source": [
        "**Step 1: Install Required Tools**"
      ],
      "metadata": {
        "id": "ip7HOQp8QH1k"
      }
    },
    {
      "cell_type": "code",
      "execution_count": null,
      "metadata": {
        "id": "x4xG3-NXO2CU"
      },
      "outputs": [],
      "source": [
        "!pip install pandas matplotlib"
      ]
    },
    {
      "cell_type": "markdown",
      "source": [
        "**Step 2: Load the Dataset**"
      ],
      "metadata": {
        "id": "on7VbM76QBwG"
      }
    },
    {
      "cell_type": "code",
      "source": [
        "import pandas as pd\n",
        "\n",
        "# Load the dataset\n",
        "file_path = \"sample_data/salesdata.csv\"  # Update with your path if needed\n",
        "data = pd.read_csv(file_path)\n",
        "\n",
        "# Preview the dataset\n",
        "print(\"Dataset Preview:\")\n",
        "print(data.head())"
      ],
      "metadata": {
        "colab": {
          "base_uri": "https://localhost:8080/"
        },
        "id": "t5Zs3jSYPt5r",
        "outputId": "e4793505-966d-4eb8-d2f3-8c68a19c7b3c"
      },
      "execution_count": 3,
      "outputs": [
        {
          "output_type": "stream",
          "name": "stdout",
          "text": [
            "Dataset Preview:\n",
            "   CustomerID     Name              Email         Region PurchaseAmount\n",
            "0         101    Alice  alice@example.com          North         250.75\n",
            "1         102      Bob    bob@example.com           East          120.5\n",
            "2         103  Charlie      invalid_email  InvalidRegion            330\n",
            "3         104    David  david@example.com           West           -150\n",
            "4         105      Eve    eve@example.com          North            200\n"
          ]
        }
      ]
    },
    {
      "cell_type": "markdown",
      "source": [
        "**Step 3: Perform Data Quality Checks**\n"
      ],
      "metadata": {
        "id": "1FJFwXbxP4EC"
      }
    },
    {
      "cell_type": "code",
      "source": [
        "# 1. Check for Missing Values:\n",
        "# Why? Missing values indicate gaps in data that may affect downstream processes.\n",
        "# Expected Output: You will find missing values in the Email column.\n",
        "\n",
        "print(\"\\nMissing Values:\")\n",
        "print(data.isnull().sum())"
      ],
      "metadata": {
        "colab": {
          "base_uri": "https://localhost:8080/"
        },
        "id": "hFn6ZH2mP1wr",
        "outputId": "21fb1c8f-60b9-448a-ec45-1a4690fcf9f4"
      },
      "execution_count": 4,
      "outputs": [
        {
          "output_type": "stream",
          "name": "stdout",
          "text": [
            "\n",
            "Missing Values:\n",
            "CustomerID        0\n",
            "Name              0\n",
            "Email             1\n",
            "Region            0\n",
            "PurchaseAmount    1\n",
            "dtype: int64\n"
          ]
        }
      ]
    },
    {
      "cell_type": "code",
      "source": [
        "# 2. Check for Invalid Purchase Amounts:\n",
        "# Why? Purchase amounts must be non-negative numbers. Negative or non-numeric values are invalid.\n",
        "#Expected Output: Rows with negative values or NaN due to non-numeric data.\n",
        "data['PurchaseAmount'] = pd.to_numeric(data['PurchaseAmount'], errors='coerce')\n",
        "invalid_amounts = data[data['PurchaseAmount'] < 0]\n",
        "print(\"\\nInvalid Purchase Amounts:\")\n",
        "print(invalid_amounts)\n",
        "\n"
      ],
      "metadata": {
        "colab": {
          "base_uri": "https://localhost:8080/"
        },
        "id": "HYt_oDhkQiJ4",
        "outputId": "f6ad6d8e-cdef-45a9-bdd0-e66a5f16cdc0"
      },
      "execution_count": 5,
      "outputs": [
        {
          "output_type": "stream",
          "name": "stdout",
          "text": [
            "\n",
            "Invalid Purchase Amounts:\n",
            "   CustomerID   Name              Email Region  PurchaseAmount\n",
            "3         104  David  david@example.com   West          -150.0\n"
          ]
        }
      ]
    },
    {
      "cell_type": "code",
      "source": [
        "# 3. Check for Invalid Regions\n",
        "# Why? Regions should conform to predefined categories to maintain consistency.\n",
        "# Expected Output: Rows with regions like InvalidRegion or Unknown\n",
        "\n",
        "allowed_regions = [\"North\", \"East\", \"South\", \"West\"]\n",
        "invalid_regions = data[~data[\"Region\"].isin(allowed_regions)]\n",
        "print(\"\\nInvalid Regions:\")\n",
        "print(invalid_regions)"
      ],
      "metadata": {
        "colab": {
          "base_uri": "https://localhost:8080/"
        },
        "id": "g0ICOG1IQ-oz",
        "outputId": "85b0dee0-f73b-4934-a6ae-b61a72e8a9d2"
      },
      "execution_count": 6,
      "outputs": [
        {
          "output_type": "stream",
          "name": "stdout",
          "text": [
            "\n",
            "Invalid Regions:\n",
            "   CustomerID     Name             Email         Region  PurchaseAmount\n",
            "2         103  Charlie     invalid_email  InvalidRegion           330.0\n",
            "9         110     Jack  jack@example.com        Unknown             NaN\n"
          ]
        }
      ]
    },
    {
      "cell_type": "markdown",
      "source": [
        "**Step 4: Perform Data Cleaning**\n"
      ],
      "metadata": {
        "id": "o7PdiNSfROO-"
      }
    },
    {
      "cell_type": "code",
      "source": [
        "# 1. Remove or Correct Invalid Data\n",
        "#Why? Cleaning ensures the dataset is free of inconsistencies and ready for analysis.\n",
        "\n",
        "# Drop rows with missing or invalid emails:\n",
        "data = data.dropna(subset=[\"Email\"])\n",
        "\n",
        "# Remove rows with invalid regions:\n",
        "data = data[data[\"Region\"].isin(allowed_regions)]\n",
        "\n",
        "# Replace invalid purchase amounts with 0:\n",
        "data[\"PurchaseAmount\"] = data[\"PurchaseAmount\"].apply(lambda x: x if pd.notnull(x) and x >= 0 else 0)\n"
      ],
      "metadata": {
        "id": "YRBakW5hRSMX"
      },
      "execution_count": 8,
      "outputs": []
    },
    {
      "cell_type": "code",
      "source": [
        "# 2. Check for Duplicate Rows: Duplicate rows can skew analysis and reporting.\n",
        "duplicates = data.duplicated().sum()\n",
        "print(\"\\nNumber of Duplicate Rows:\", duplicates)\n",
        "data = data.drop_duplicates()\n"
      ],
      "metadata": {
        "colab": {
          "base_uri": "https://localhost:8080/"
        },
        "id": "V72SNbnKRuFw",
        "outputId": "4c12b82a-dc53-440d-ee6b-945691e9e861"
      },
      "execution_count": 9,
      "outputs": [
        {
          "output_type": "stream",
          "name": "stdout",
          "text": [
            "\n",
            "Number of Duplicate Rows: 1\n"
          ]
        }
      ]
    },
    {
      "cell_type": "markdown",
      "source": [
        "**Step 5: Visualize Cleaned Data**\n"
      ],
      "metadata": {
        "id": "IAPuImlaRthx"
      }
    },
    {
      "cell_type": "code",
      "source": [
        "# Group Data by Region\n",
        "region_summary = data.groupby(\"Region\")[\"PurchaseAmount\"].sum()\n",
        "print(region_summary)\n"
      ],
      "metadata": {
        "colab": {
          "base_uri": "https://localhost:8080/"
        },
        "id": "EQrn_itBR5xX",
        "outputId": "d4d980dd-1301-4171-f161-eaaf88011ead"
      },
      "execution_count": 10,
      "outputs": [
        {
          "output_type": "stream",
          "name": "stdout",
          "text": [
            "Region\n",
            "East     570.5\n",
            "North    631.5\n",
            "South    330.0\n",
            "West       0.0\n",
            "Name: PurchaseAmount, dtype: float64\n"
          ]
        }
      ]
    },
    {
      "cell_type": "code",
      "source": [
        "# Visualize the Results\n",
        "\n",
        "import matplotlib.pyplot as plt\n",
        "\n",
        "region_summary.plot(kind=\"bar\", title=\"Total Purchases by Region\", color=['blue', 'orange', 'green', 'red'])\n",
        "plt.ylabel(\"Total Purchase Amount\")\n",
        "plt.xlabel(\"Region\")\n",
        "plt.show()"
      ],
      "metadata": {
        "colab": {
          "base_uri": "https://localhost:8080/",
          "height": 498
        },
        "id": "J_HsvAvlSA4W",
        "outputId": "ffd60090-75bd-4b38-dae9-157e06481c7e"
      },
      "execution_count": 11,
      "outputs": [
        {
          "output_type": "display_data",
          "data": {
            "text/plain": [
              "<Figure size 640x480 with 1 Axes>"
            ],
            "image/png": "[encoded data removed]"
          },
          "metadata": {}
        }
      ]
    },
    {
      "cell_type": "markdown",
      "source": [
        "**Step 6: Save the Cleaned Datase**t\n"
      ],
      "metadata": {
        "id": "7ty5GzHcSJ02"
      }
    },
    {
      "cell_type": "code",
      "source": [
        "#Save the cleaned dataset for future use:\n",
        "data.to_csv(\"cleaned_sales_data.csv\", index=False)\n",
        "print(\"\\nCleaned Dataset Saved as cleaned_sales_data.csv\")\n",
        "\n"
      ],
      "metadata": {
        "colab": {
          "base_uri": "https://localhost:8080/"
        },
        "id": "F1NSTXNySIOA",
        "outputId": "322d3cd6-149d-4b59-9ccb-74f1f7224672"
      },
      "execution_count": 12,
      "outputs": [
        {
          "output_type": "stream",
          "name": "stdout",
          "text": [
            "\n",
            "Cleaned Dataset Saved as cleaned_sales_data.csv\n"
          ]
        }
      ]
    }
  ]
}